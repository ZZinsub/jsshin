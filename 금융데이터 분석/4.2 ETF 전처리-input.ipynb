{
 "cells": [
  {
   "cell_type": "markdown",
   "metadata": {
    "id": "t3V7lAmnBYko"
   },
   "source": [
    "[![Open In Colab](https://colab.research.google.com/assets/colab-badge.svg)](https://colab.research.google.com/github/corazzon/finance-data-analysis/blob/main/4.2%20ETF%20%EC%A0%84%EC%B2%98%EB%A6%AC-input.ipynb)\n",
    "\n",
    "* [ETF : 네이버 금융](https://finance.naver.com/sise/etf.nhn) 에서 수집한 데이터를 전처리 합니다.\n",
    "* keyword\n",
    "    * rename column\n",
    "    * .map(lambda x : x)\n",
    "    * text data\n",
    "        * str.contains()\n",
    "        * str.replace()\n",
    "        * str.split(\"구분자\", expand=True)\n",
    "        * str[:]\n",
    "\n",
    "## 데이터 로드와 요약"
   ]
  },
  {
   "cell_type": "code",
   "execution_count": 1,
   "metadata": {
    "id": "sUwAAMjsBYko"
   },
   "outputs": [],
   "source": [
    "# 데이터 분석을 위한 pandas, 수치계산을 위한 numpy라이브러리를 로드\n",
    "import pandas as pd\n",
    "import numpy as np"
   ]
  },
  {
   "cell_type": "code",
   "execution_count": 2,
   "metadata": {},
   "outputs": [
    {
     "data": {
      "text/plain": [
       "'eft_2024-05-08_raw.csv'"
      ]
     },
     "execution_count": 2,
     "metadata": {},
     "output_type": "execute_result"
    }
   ],
   "source": [
    "# 이전 실습에서 저장한 파일명을 file_name에 기재\n",
    "file_name = \"eft_2024-05-08_raw.csv\"\n",
    "file_name"
   ]
  },
  {
   "cell_type": "code",
   "execution_count": 3,
   "metadata": {
    "id": "cyivYjVFBYkp"
   },
   "outputs": [
    {
     "name": "stderr",
     "output_type": "stream",
     "text": [
      "C:\\Users\\user\\AppData\\Local\\Temp\\ipykernel_9324\\3387552712.py:3: DeprecationWarning: `np.object` is a deprecated alias for the builtin `object`. To silence this warning, use `object` by itself. Doing this will not modify any behavior and is safe. \n",
      "Deprecated in NumPy 1.20; for more details and guidance: https://numpy.org/devdocs/release/1.20.0-notes.html#deprecations\n",
      "  df = pd.read_csv(file_name, dtype={\"itemcode\":np.object})\n"
     ]
    },
    {
     "data": {
      "text/plain": [
       "(856, 12)"
      ]
     },
     "execution_count": 3,
     "metadata": {},
     "output_type": "execute_result"
    }
   ],
   "source": [
    "# 저장해둔 csv 파일을 읽어오기\n",
    "# itemcode 숫자 앞의 0 이 지워진다면 dtype={\"itemcode\": np.object} 로 타입을 지정해 주면 문자형태로 읽어오기\n",
    "df = pd.read_csv(file_name, dtype={\"itemcode\":np.object})\n",
    "df.shape"
   ]
  },
  {
   "cell_type": "code",
   "execution_count": 4,
   "metadata": {
    "id": "VgCji4_wBYkp"
   },
   "outputs": [
    {
     "data": {
      "text/html": [
       "<div>\n",
       "<style scoped>\n",
       "    .dataframe tbody tr th:only-of-type {\n",
       "        vertical-align: middle;\n",
       "    }\n",
       "\n",
       "    .dataframe tbody tr th {\n",
       "        vertical-align: top;\n",
       "    }\n",
       "\n",
       "    .dataframe thead th {\n",
       "        text-align: right;\n",
       "    }\n",
       "</style>\n",
       "<table border=\"1\" class=\"dataframe\">\n",
       "  <thead>\n",
       "    <tr style=\"text-align: right;\">\n",
       "      <th></th>\n",
       "      <th>itemcode</th>\n",
       "      <th>etfTabCode</th>\n",
       "      <th>itemname</th>\n",
       "      <th>nowVal</th>\n",
       "      <th>risefall</th>\n",
       "      <th>changeVal</th>\n",
       "      <th>changeRate</th>\n",
       "      <th>nav</th>\n",
       "      <th>threeMonthEarnRate</th>\n",
       "      <th>quant</th>\n",
       "      <th>amonut</th>\n",
       "      <th>marketSum</th>\n",
       "    </tr>\n",
       "  </thead>\n",
       "  <tbody>\n",
       "    <tr>\n",
       "      <th>0</th>\n",
       "      <td>459580</td>\n",
       "      <td>6</td>\n",
       "      <td>KODEX CD금리액티브(합성)</td>\n",
       "      <td>1035155</td>\n",
       "      <td>2</td>\n",
       "      <td>100</td>\n",
       "      <td>0.01</td>\n",
       "      <td>1035156.0</td>\n",
       "      <td>0.8840</td>\n",
       "      <td>344339</td>\n",
       "      <td>356445</td>\n",
       "      <td>83168</td>\n",
       "    </tr>\n",
       "    <tr>\n",
       "      <th>1</th>\n",
       "      <td>357870</td>\n",
       "      <td>6</td>\n",
       "      <td>TIGER CD금리투자KIS(합성)</td>\n",
       "      <td>54265</td>\n",
       "      <td>2</td>\n",
       "      <td>5</td>\n",
       "      <td>0.01</td>\n",
       "      <td>54258.0</td>\n",
       "      <td>0.8456</td>\n",
       "      <td>132995</td>\n",
       "      <td>7216</td>\n",
       "      <td>73403</td>\n",
       "    </tr>\n",
       "    <tr>\n",
       "      <th>2</th>\n",
       "      <td>069500</td>\n",
       "      <td>1</td>\n",
       "      <td>KODEX 200</td>\n",
       "      <td>37460</td>\n",
       "      <td>2</td>\n",
       "      <td>130</td>\n",
       "      <td>0.35</td>\n",
       "      <td>37556.0</td>\n",
       "      <td>6.5840</td>\n",
       "      <td>1895070</td>\n",
       "      <td>70864</td>\n",
       "      <td>63813</td>\n",
       "    </tr>\n",
       "    <tr>\n",
       "      <th>3</th>\n",
       "      <td>423160</td>\n",
       "      <td>6</td>\n",
       "      <td>KODEX KOFR금리액티브(합성)</td>\n",
       "      <td>106685</td>\n",
       "      <td>3</td>\n",
       "      <td>0</td>\n",
       "      <td>0.00</td>\n",
       "      <td>106678.0</td>\n",
       "      <td>0.8841</td>\n",
       "      <td>609048</td>\n",
       "      <td>64976</td>\n",
       "      <td>52336</td>\n",
       "    </tr>\n",
       "    <tr>\n",
       "      <th>4</th>\n",
       "      <td>449170</td>\n",
       "      <td>6</td>\n",
       "      <td>TIGER KOFR금리액티브(합성)</td>\n",
       "      <td>105225</td>\n",
       "      <td>2</td>\n",
       "      <td>10</td>\n",
       "      <td>0.01</td>\n",
       "      <td>105221.0</td>\n",
       "      <td>0.8869</td>\n",
       "      <td>42740</td>\n",
       "      <td>4497</td>\n",
       "      <td>37320</td>\n",
       "    </tr>\n",
       "  </tbody>\n",
       "</table>\n",
       "</div>"
      ],
      "text/plain": [
       "  itemcode  etfTabCode             itemname   nowVal  risefall  changeVal  \\\n",
       "0   459580           6    KODEX CD금리액티브(합성)  1035155         2        100   \n",
       "1   357870           6  TIGER CD금리투자KIS(합성)    54265         2          5   \n",
       "2   069500           1            KODEX 200    37460         2        130   \n",
       "3   423160           6  KODEX KOFR금리액티브(합성)   106685         3          0   \n",
       "4   449170           6  TIGER KOFR금리액티브(합성)   105225         2         10   \n",
       "\n",
       "   changeRate        nav  threeMonthEarnRate    quant  amonut  marketSum  \n",
       "0        0.01  1035156.0              0.8840   344339  356445      83168  \n",
       "1        0.01    54258.0              0.8456   132995    7216      73403  \n",
       "2        0.35    37556.0              6.5840  1895070   70864      63813  \n",
       "3        0.00   106678.0              0.8841   609048   64976      52336  \n",
       "4        0.01   105221.0              0.8869    42740    4497      37320  "
      ]
     },
     "execution_count": 4,
     "metadata": {},
     "output_type": "execute_result"
    }
   ],
   "source": [
    "# 인덱스 번호 상단 5개의 데이터를 가져오기\n",
    "df.head()"
   ]
  },
  {
   "cell_type": "code",
   "execution_count": 5,
   "metadata": {
    "id": "sFWU55-NBYkp"
   },
   "outputs": [
    {
     "data": {
      "text/html": [
       "<div>\n",
       "<style scoped>\n",
       "    .dataframe tbody tr th:only-of-type {\n",
       "        vertical-align: middle;\n",
       "    }\n",
       "\n",
       "    .dataframe tbody tr th {\n",
       "        vertical-align: top;\n",
       "    }\n",
       "\n",
       "    .dataframe thead th {\n",
       "        text-align: right;\n",
       "    }\n",
       "</style>\n",
       "<table border=\"1\" class=\"dataframe\">\n",
       "  <thead>\n",
       "    <tr style=\"text-align: right;\">\n",
       "      <th></th>\n",
       "      <th>itemcode</th>\n",
       "      <th>etfTabCode</th>\n",
       "      <th>itemname</th>\n",
       "      <th>nowVal</th>\n",
       "      <th>risefall</th>\n",
       "      <th>changeVal</th>\n",
       "      <th>changeRate</th>\n",
       "      <th>nav</th>\n",
       "      <th>threeMonthEarnRate</th>\n",
       "      <th>quant</th>\n",
       "      <th>amonut</th>\n",
       "      <th>marketSum</th>\n",
       "    </tr>\n",
       "  </thead>\n",
       "  <tbody>\n",
       "    <tr>\n",
       "      <th>851</th>\n",
       "      <td>412560</td>\n",
       "      <td>2</td>\n",
       "      <td>TIGER BBIG레버리지</td>\n",
       "      <td>2210</td>\n",
       "      <td>2</td>\n",
       "      <td>25</td>\n",
       "      <td>1.14</td>\n",
       "      <td>2226.0</td>\n",
       "      <td>-0.9071</td>\n",
       "      <td>4169</td>\n",
       "      <td>9</td>\n",
       "      <td>19</td>\n",
       "    </tr>\n",
       "    <tr>\n",
       "      <th>852</th>\n",
       "      <td>252730</td>\n",
       "      <td>2</td>\n",
       "      <td>KBSTAR 모멘텀로우볼</td>\n",
       "      <td>16285</td>\n",
       "      <td>2</td>\n",
       "      <td>75</td>\n",
       "      <td>0.46</td>\n",
       "      <td>16300.0</td>\n",
       "      <td>6.8204</td>\n",
       "      <td>12</td>\n",
       "      <td>0</td>\n",
       "      <td>16</td>\n",
       "    </tr>\n",
       "    <tr>\n",
       "      <th>853</th>\n",
       "      <td>287330</td>\n",
       "      <td>2</td>\n",
       "      <td>KBSTAR 200생활소비재</td>\n",
       "      <td>6415</td>\n",
       "      <td>5</td>\n",
       "      <td>-5</td>\n",
       "      <td>-0.08</td>\n",
       "      <td>6415.0</td>\n",
       "      <td>8.2995</td>\n",
       "      <td>2140</td>\n",
       "      <td>13</td>\n",
       "      <td>14</td>\n",
       "    </tr>\n",
       "    <tr>\n",
       "      <th>854</th>\n",
       "      <td>315480</td>\n",
       "      <td>2</td>\n",
       "      <td>KBSTAR 200커뮤니케이션서비스</td>\n",
       "      <td>10965</td>\n",
       "      <td>2</td>\n",
       "      <td>25</td>\n",
       "      <td>0.23</td>\n",
       "      <td>10969.0</td>\n",
       "      <td>-1.9011</td>\n",
       "      <td>119</td>\n",
       "      <td>1</td>\n",
       "      <td>13</td>\n",
       "    </tr>\n",
       "    <tr>\n",
       "      <th>855</th>\n",
       "      <td>287320</td>\n",
       "      <td>2</td>\n",
       "      <td>KBSTAR 200산업재</td>\n",
       "      <td>12495</td>\n",
       "      <td>2</td>\n",
       "      <td>125</td>\n",
       "      <td>1.01</td>\n",
       "      <td>12504.0</td>\n",
       "      <td>8.0443</td>\n",
       "      <td>149</td>\n",
       "      <td>1</td>\n",
       "      <td>10</td>\n",
       "    </tr>\n",
       "  </tbody>\n",
       "</table>\n",
       "</div>"
      ],
      "text/plain": [
       "    itemcode  etfTabCode             itemname  nowVal  risefall  changeVal  \\\n",
       "851   412560           2       TIGER BBIG레버리지    2210         2         25   \n",
       "852   252730           2        KBSTAR 모멘텀로우볼   16285         2         75   \n",
       "853   287330           2      KBSTAR 200생활소비재    6415         5         -5   \n",
       "854   315480           2  KBSTAR 200커뮤니케이션서비스   10965         2         25   \n",
       "855   287320           2        KBSTAR 200산업재   12495         2        125   \n",
       "\n",
       "     changeRate      nav  threeMonthEarnRate  quant  amonut  marketSum  \n",
       "851        1.14   2226.0             -0.9071   4169       9         19  \n",
       "852        0.46  16300.0              6.8204     12       0         16  \n",
       "853       -0.08   6415.0              8.2995   2140      13         14  \n",
       "854        0.23  10969.0             -1.9011    119       1         13  \n",
       "855        1.01  12504.0              8.0443    149       1         10  "
      ]
     },
     "execution_count": 5,
     "metadata": {},
     "output_type": "execute_result"
    }
   ],
   "source": [
    "# 인덱스 하단의 5개 데이터 읽어오기\n",
    "df.tail()"
   ]
  },
  {
   "cell_type": "code",
   "execution_count": 6,
   "metadata": {
    "id": "LxSJgh3rBYkq",
    "scrolled": true
   },
   "outputs": [
    {
     "name": "stdout",
     "output_type": "stream",
     "text": [
      "<class 'pandas.core.frame.DataFrame'>\n",
      "RangeIndex: 856 entries, 0 to 855\n",
      "Data columns (total 12 columns):\n",
      " #   Column              Non-Null Count  Dtype  \n",
      "---  ------              --------------  -----  \n",
      " 0   itemcode            856 non-null    object \n",
      " 1   etfTabCode          856 non-null    int64  \n",
      " 2   itemname            856 non-null    object \n",
      " 3   nowVal              856 non-null    int64  \n",
      " 4   risefall            856 non-null    int64  \n",
      " 5   changeVal           856 non-null    int64  \n",
      " 6   changeRate          856 non-null    float64\n",
      " 7   nav                 856 non-null    float64\n",
      " 8   threeMonthEarnRate  822 non-null    float64\n",
      " 9   quant               856 non-null    int64  \n",
      " 10  amonut              856 non-null    int64  \n",
      " 11  marketSum           856 non-null    int64  \n",
      "dtypes: float64(3), int64(7), object(2)\n",
      "memory usage: 80.4+ KB\n"
     ]
    }
   ],
   "source": [
    "# info를 통해서 각 column들의 데이터타입과 결측치, 메모리 사용량 등을 조회\n",
    "df.info()"
   ]
  },
  {
   "cell_type": "markdown",
   "metadata": {},
   "source": [
    "* 웹사이트의 ETF 정보와 비교하며 어떤 컬럼이 어떤 값인지 확인합니다. \n",
    "* https://finance.naver.com/sise/etf.nhn "
   ]
  },
  {
   "cell_type": "code",
   "execution_count": 7,
   "metadata": {
    "id": "cdS2JB71BYkq"
   },
   "outputs": [
    {
     "data": {
      "text/html": [
       "<div>\n",
       "<style scoped>\n",
       "    .dataframe tbody tr th:only-of-type {\n",
       "        vertical-align: middle;\n",
       "    }\n",
       "\n",
       "    .dataframe tbody tr th {\n",
       "        vertical-align: top;\n",
       "    }\n",
       "\n",
       "    .dataframe thead th {\n",
       "        text-align: right;\n",
       "    }\n",
       "</style>\n",
       "<table border=\"1\" class=\"dataframe\">\n",
       "  <thead>\n",
       "    <tr style=\"text-align: right;\">\n",
       "      <th></th>\n",
       "      <th>itemcode</th>\n",
       "      <th>etfTabCode</th>\n",
       "      <th>itemname</th>\n",
       "      <th>nowVal</th>\n",
       "      <th>risefall</th>\n",
       "      <th>changeVal</th>\n",
       "      <th>changeRate</th>\n",
       "      <th>nav</th>\n",
       "      <th>threeMonthEarnRate</th>\n",
       "      <th>quant</th>\n",
       "      <th>amonut</th>\n",
       "      <th>marketSum</th>\n",
       "    </tr>\n",
       "  </thead>\n",
       "  <tbody>\n",
       "    <tr>\n",
       "      <th>16</th>\n",
       "      <td>252670</td>\n",
       "      <td>3</td>\n",
       "      <td>KODEX 200선물인버스2X</td>\n",
       "      <td>1991</td>\n",
       "      <td>5</td>\n",
       "      <td>-14</td>\n",
       "      <td>-0.70</td>\n",
       "      <td>1992.0</td>\n",
       "      <td>-12.0615</td>\n",
       "      <td>147938145</td>\n",
       "      <td>295905</td>\n",
       "      <td>13407</td>\n",
       "    </tr>\n",
       "    <tr>\n",
       "      <th>52</th>\n",
       "      <td>114800</td>\n",
       "      <td>3</td>\n",
       "      <td>KODEX 인버스</td>\n",
       "      <td>4110</td>\n",
       "      <td>5</td>\n",
       "      <td>-10</td>\n",
       "      <td>-0.24</td>\n",
       "      <td>4106.0</td>\n",
       "      <td>-5.5046</td>\n",
       "      <td>20893689</td>\n",
       "      <td>85987</td>\n",
       "      <td>5766</td>\n",
       "    </tr>\n",
       "    <tr>\n",
       "      <th>69</th>\n",
       "      <td>251340</td>\n",
       "      <td>3</td>\n",
       "      <td>KODEX 코스닥150선물인버스</td>\n",
       "      <td>3405</td>\n",
       "      <td>5</td>\n",
       "      <td>-5</td>\n",
       "      <td>-0.15</td>\n",
       "      <td>3422.0</td>\n",
       "      <td>-12.2266</td>\n",
       "      <td>20703658</td>\n",
       "      <td>71040</td>\n",
       "      <td>3943</td>\n",
       "    </tr>\n",
       "    <tr>\n",
       "      <th>28</th>\n",
       "      <td>233740</td>\n",
       "      <td>3</td>\n",
       "      <td>KODEX 코스닥150레버리지</td>\n",
       "      <td>11830</td>\n",
       "      <td>2</td>\n",
       "      <td>20</td>\n",
       "      <td>0.17</td>\n",
       "      <td>11925.0</td>\n",
       "      <td>25.1059</td>\n",
       "      <td>16371002</td>\n",
       "      <td>191048</td>\n",
       "      <td>10955</td>\n",
       "    </tr>\n",
       "    <tr>\n",
       "      <th>11</th>\n",
       "      <td>122630</td>\n",
       "      <td>3</td>\n",
       "      <td>KODEX 레버리지</td>\n",
       "      <td>19955</td>\n",
       "      <td>2</td>\n",
       "      <td>150</td>\n",
       "      <td>0.76</td>\n",
       "      <td>20174.0</td>\n",
       "      <td>10.9213</td>\n",
       "      <td>10526173</td>\n",
       "      <td>209148</td>\n",
       "      <td>21561</td>\n",
       "    </tr>\n",
       "    <tr>\n",
       "      <th>31</th>\n",
       "      <td>229200</td>\n",
       "      <td>1</td>\n",
       "      <td>KODEX 코스닥150</td>\n",
       "      <td>14310</td>\n",
       "      <td>2</td>\n",
       "      <td>20</td>\n",
       "      <td>0.14</td>\n",
       "      <td>14377.0</td>\n",
       "      <td>12.4577</td>\n",
       "      <td>4109473</td>\n",
       "      <td>58396</td>\n",
       "      <td>9022</td>\n",
       "    </tr>\n",
       "    <tr>\n",
       "      <th>173</th>\n",
       "      <td>228790</td>\n",
       "      <td>2</td>\n",
       "      <td>TIGER 화장품</td>\n",
       "      <td>2815</td>\n",
       "      <td>5</td>\n",
       "      <td>-15</td>\n",
       "      <td>-0.53</td>\n",
       "      <td>2832.0</td>\n",
       "      <td>19.3086</td>\n",
       "      <td>3298164</td>\n",
       "      <td>9344</td>\n",
       "      <td>1268</td>\n",
       "    </tr>\n",
       "    <tr>\n",
       "      <th>147</th>\n",
       "      <td>466920</td>\n",
       "      <td>2</td>\n",
       "      <td>SOL 조선TOP3플러스</td>\n",
       "      <td>10835</td>\n",
       "      <td>2</td>\n",
       "      <td>15</td>\n",
       "      <td>0.14</td>\n",
       "      <td>10827.0</td>\n",
       "      <td>22.8149</td>\n",
       "      <td>2620806</td>\n",
       "      <td>28339</td>\n",
       "      <td>1614</td>\n",
       "    </tr>\n",
       "    <tr>\n",
       "      <th>49</th>\n",
       "      <td>371160</td>\n",
       "      <td>4</td>\n",
       "      <td>TIGER 차이나항셍테크</td>\n",
       "      <td>5850</td>\n",
       "      <td>5</td>\n",
       "      <td>-40</td>\n",
       "      <td>-0.68</td>\n",
       "      <td>5844.0</td>\n",
       "      <td>26.8030</td>\n",
       "      <td>2169851</td>\n",
       "      <td>12844</td>\n",
       "      <td>6122</td>\n",
       "    </tr>\n",
       "    <tr>\n",
       "      <th>2</th>\n",
       "      <td>069500</td>\n",
       "      <td>1</td>\n",
       "      <td>KODEX 200</td>\n",
       "      <td>37460</td>\n",
       "      <td>2</td>\n",
       "      <td>130</td>\n",
       "      <td>0.35</td>\n",
       "      <td>37556.0</td>\n",
       "      <td>6.5840</td>\n",
       "      <td>1895070</td>\n",
       "      <td>70864</td>\n",
       "      <td>63813</td>\n",
       "    </tr>\n",
       "  </tbody>\n",
       "</table>\n",
       "</div>"
      ],
      "text/plain": [
       "    itemcode  etfTabCode           itemname  nowVal  risefall  changeVal  \\\n",
       "16    252670           3   KODEX 200선물인버스2X    1991         5        -14   \n",
       "52    114800           3          KODEX 인버스    4110         5        -10   \n",
       "69    251340           3  KODEX 코스닥150선물인버스    3405         5         -5   \n",
       "28    233740           3   KODEX 코스닥150레버리지   11830         2         20   \n",
       "11    122630           3         KODEX 레버리지   19955         2        150   \n",
       "31    229200           1       KODEX 코스닥150   14310         2         20   \n",
       "173   228790           2          TIGER 화장품    2815         5        -15   \n",
       "147   466920           2      SOL 조선TOP3플러스   10835         2         15   \n",
       "49    371160           4      TIGER 차이나항셍테크    5850         5        -40   \n",
       "2     069500           1          KODEX 200   37460         2        130   \n",
       "\n",
       "     changeRate      nav  threeMonthEarnRate      quant  amonut  marketSum  \n",
       "16        -0.70   1992.0            -12.0615  147938145  295905      13407  \n",
       "52        -0.24   4106.0             -5.5046   20893689   85987       5766  \n",
       "69        -0.15   3422.0            -12.2266   20703658   71040       3943  \n",
       "28         0.17  11925.0             25.1059   16371002  191048      10955  \n",
       "11         0.76  20174.0             10.9213   10526173  209148      21561  \n",
       "31         0.14  14377.0             12.4577    4109473   58396       9022  \n",
       "173       -0.53   2832.0             19.3086    3298164    9344       1268  \n",
       "147        0.14  10827.0             22.8149    2620806   28339       1614  \n",
       "49        -0.68   5844.0             26.8030    2169851   12844       6122  \n",
       "2          0.35  37556.0              6.5840    1895070   70864      63813  "
      ]
     },
     "execution_count": 7,
     "metadata": {},
     "output_type": "execute_result"
    }
   ],
   "source": [
    "# https://finance.naver.com/sise/etf.nhn 에서 값을 비교해보면 quant는 거래량임을 알 수 있음\n",
    "# 거래량(quant) 기준으로 내림차순으로 정렬하여 상위 10개의 데이터 보기\n",
    "df.sort_values(\"quant\", ascending=False).head(10)"
   ]
  },
  {
   "cell_type": "code",
   "execution_count": 8,
   "metadata": {
    "id": "_65UmaWzBYkq"
   },
   "outputs": [
    {
     "data": {
      "text/plain": [
       "1     77\n",
       "2    251\n",
       "3     37\n",
       "4    244\n",
       "5     18\n",
       "6    154\n",
       "7     75\n",
       "Name: etfTabCode, dtype: int64"
      ]
     },
     "execution_count": 8,
     "metadata": {},
     "output_type": "execute_result"
    }
   ],
   "source": [
    "# etfTabCode column의 데이터 구성을 살펴보기\n",
    "# 전체(0), 국내 시장지수(1), 국내 업종/테마(2), 국내 파생(3) ~\n",
    "# 해외 주식(4), 원자재(5), 채권(6), 기타(7)로 자료가 구분\n",
    "df[\"etfTabCode\"].value_counts().sort_index()"
   ]
  },
  {
   "cell_type": "code",
   "execution_count": 9,
   "metadata": {
    "id": "k61c2Hr1BYkq"
   },
   "outputs": [
    {
     "data": {
      "text/html": [
       "<div>\n",
       "<style scoped>\n",
       "    .dataframe tbody tr th:only-of-type {\n",
       "        vertical-align: middle;\n",
       "    }\n",
       "\n",
       "    .dataframe tbody tr th {\n",
       "        vertical-align: top;\n",
       "    }\n",
       "\n",
       "    .dataframe thead th {\n",
       "        text-align: right;\n",
       "    }\n",
       "</style>\n",
       "<table border=\"1\" class=\"dataframe\">\n",
       "  <thead>\n",
       "    <tr style=\"text-align: right;\">\n",
       "      <th></th>\n",
       "      <th>itemcode</th>\n",
       "      <th>etfTabCode</th>\n",
       "      <th>itemname</th>\n",
       "      <th>nowVal</th>\n",
       "      <th>risefall</th>\n",
       "      <th>changeVal</th>\n",
       "      <th>changeRate</th>\n",
       "      <th>nav</th>\n",
       "      <th>threeMonthEarnRate</th>\n",
       "      <th>quant</th>\n",
       "      <th>amonut</th>\n",
       "      <th>marketSum</th>\n",
       "    </tr>\n",
       "  </thead>\n",
       "  <tbody>\n",
       "    <tr>\n",
       "      <th>2</th>\n",
       "      <td>069500</td>\n",
       "      <td>1</td>\n",
       "      <td>KODEX 200</td>\n",
       "      <td>37460</td>\n",
       "      <td>2</td>\n",
       "      <td>130</td>\n",
       "      <td>0.35</td>\n",
       "      <td>37556.0</td>\n",
       "      <td>6.5840</td>\n",
       "      <td>1895070</td>\n",
       "      <td>70864</td>\n",
       "      <td>63813</td>\n",
       "    </tr>\n",
       "    <tr>\n",
       "      <th>10</th>\n",
       "      <td>102110</td>\n",
       "      <td>1</td>\n",
       "      <td>TIGER 200</td>\n",
       "      <td>37525</td>\n",
       "      <td>2</td>\n",
       "      <td>130</td>\n",
       "      <td>0.35</td>\n",
       "      <td>37620.0</td>\n",
       "      <td>6.5263</td>\n",
       "      <td>827801</td>\n",
       "      <td>31001</td>\n",
       "      <td>23153</td>\n",
       "    </tr>\n",
       "    <tr>\n",
       "      <th>12</th>\n",
       "      <td>278530</td>\n",
       "      <td>1</td>\n",
       "      <td>KODEX 200TR</td>\n",
       "      <td>13030</td>\n",
       "      <td>2</td>\n",
       "      <td>55</td>\n",
       "      <td>0.42</td>\n",
       "      <td>13060.0</td>\n",
       "      <td>6.3960</td>\n",
       "      <td>191363</td>\n",
       "      <td>2486</td>\n",
       "      <td>21519</td>\n",
       "    </tr>\n",
       "    <tr>\n",
       "      <th>18</th>\n",
       "      <td>148020</td>\n",
       "      <td>1</td>\n",
       "      <td>KBSTAR 200</td>\n",
       "      <td>37715</td>\n",
       "      <td>2</td>\n",
       "      <td>140</td>\n",
       "      <td>0.37</td>\n",
       "      <td>37802.0</td>\n",
       "      <td>6.5473</td>\n",
       "      <td>162115</td>\n",
       "      <td>6099</td>\n",
       "      <td>12842</td>\n",
       "    </tr>\n",
       "    <tr>\n",
       "      <th>26</th>\n",
       "      <td>310970</td>\n",
       "      <td>1</td>\n",
       "      <td>TIGER MSCI Korea TR</td>\n",
       "      <td>16035</td>\n",
       "      <td>2</td>\n",
       "      <td>75</td>\n",
       "      <td>0.47</td>\n",
       "      <td>16064.0</td>\n",
       "      <td>6.6132</td>\n",
       "      <td>5115</td>\n",
       "      <td>81</td>\n",
       "      <td>11401</td>\n",
       "    </tr>\n",
       "    <tr>\n",
       "      <th>...</th>\n",
       "      <td>...</td>\n",
       "      <td>...</td>\n",
       "      <td>...</td>\n",
       "      <td>...</td>\n",
       "      <td>...</td>\n",
       "      <td>...</td>\n",
       "      <td>...</td>\n",
       "      <td>...</td>\n",
       "      <td>...</td>\n",
       "      <td>...</td>\n",
       "      <td>...</td>\n",
       "      <td>...</td>\n",
       "    </tr>\n",
       "    <tr>\n",
       "      <th>776</th>\n",
       "      <td>292750</td>\n",
       "      <td>1</td>\n",
       "      <td>ARIRANG KRX300</td>\n",
       "      <td>17805</td>\n",
       "      <td>2</td>\n",
       "      <td>30</td>\n",
       "      <td>0.17</td>\n",
       "      <td>17874.0</td>\n",
       "      <td>7.3045</td>\n",
       "      <td>22</td>\n",
       "      <td>0</td>\n",
       "      <td>53</td>\n",
       "    </tr>\n",
       "    <tr>\n",
       "      <th>790</th>\n",
       "      <td>391670</td>\n",
       "      <td>1</td>\n",
       "      <td>HK 베스트일레븐액티브</td>\n",
       "      <td>9665</td>\n",
       "      <td>3</td>\n",
       "      <td>0</td>\n",
       "      <td>0.00</td>\n",
       "      <td>9729.0</td>\n",
       "      <td>9.7671</td>\n",
       "      <td>0</td>\n",
       "      <td>0</td>\n",
       "      <td>48</td>\n",
       "    </tr>\n",
       "    <tr>\n",
       "      <th>791</th>\n",
       "      <td>433250</td>\n",
       "      <td>1</td>\n",
       "      <td>UNICORN R&amp;D 액티브</td>\n",
       "      <td>12060</td>\n",
       "      <td>2</td>\n",
       "      <td>35</td>\n",
       "      <td>0.29</td>\n",
       "      <td>12066.0</td>\n",
       "      <td>5.7142</td>\n",
       "      <td>7</td>\n",
       "      <td>0</td>\n",
       "      <td>48</td>\n",
       "    </tr>\n",
       "    <tr>\n",
       "      <th>795</th>\n",
       "      <td>391680</td>\n",
       "      <td>1</td>\n",
       "      <td>HK 하이볼액티브</td>\n",
       "      <td>8505</td>\n",
       "      <td>3</td>\n",
       "      <td>0</td>\n",
       "      <td>0.00</td>\n",
       "      <td>8577.0</td>\n",
       "      <td>6.0473</td>\n",
       "      <td>0</td>\n",
       "      <td>0</td>\n",
       "      <td>47</td>\n",
       "    </tr>\n",
       "    <tr>\n",
       "      <th>813</th>\n",
       "      <td>295820</td>\n",
       "      <td>1</td>\n",
       "      <td>ARIRANG 200동일가중</td>\n",
       "      <td>10385</td>\n",
       "      <td>3</td>\n",
       "      <td>0</td>\n",
       "      <td>0.00</td>\n",
       "      <td>10483.0</td>\n",
       "      <td>3.6944</td>\n",
       "      <td>0</td>\n",
       "      <td>0</td>\n",
       "      <td>42</td>\n",
       "    </tr>\n",
       "  </tbody>\n",
       "</table>\n",
       "<p>77 rows × 12 columns</p>\n",
       "</div>"
      ],
      "text/plain": [
       "    itemcode  etfTabCode             itemname  nowVal  risefall  changeVal  \\\n",
       "2     069500           1            KODEX 200   37460         2        130   \n",
       "10    102110           1            TIGER 200   37525         2        130   \n",
       "12    278530           1          KODEX 200TR   13030         2         55   \n",
       "18    148020           1           KBSTAR 200   37715         2        140   \n",
       "26    310970           1  TIGER MSCI Korea TR   16035         2         75   \n",
       "..       ...         ...                  ...     ...       ...        ...   \n",
       "776   292750           1       ARIRANG KRX300   17805         2         30   \n",
       "790   391670           1         HK 베스트일레븐액티브    9665         3          0   \n",
       "791   433250           1      UNICORN R&D 액티브   12060         2         35   \n",
       "795   391680           1            HK 하이볼액티브    8505         3          0   \n",
       "813   295820           1      ARIRANG 200동일가중   10385         3          0   \n",
       "\n",
       "     changeRate      nav  threeMonthEarnRate    quant  amonut  marketSum  \n",
       "2          0.35  37556.0              6.5840  1895070   70864      63813  \n",
       "10         0.35  37620.0              6.5263   827801   31001      23153  \n",
       "12         0.42  13060.0              6.3960   191363    2486      21519  \n",
       "18         0.37  37802.0              6.5473   162115    6099      12842  \n",
       "26         0.47  16064.0              6.6132     5115      81      11401  \n",
       "..          ...      ...                 ...      ...     ...        ...  \n",
       "776        0.17  17874.0              7.3045       22       0         53  \n",
       "790        0.00   9729.0              9.7671        0       0         48  \n",
       "791        0.29  12066.0              5.7142        7       0         48  \n",
       "795        0.00   8577.0              6.0473        0       0         47  \n",
       "813        0.00  10483.0              3.6944        0       0         42  \n",
       "\n",
       "[77 rows x 12 columns]"
      ]
     },
     "execution_count": 9,
     "metadata": {},
     "output_type": "execute_result"
    }
   ],
   "source": [
    "# pandas 의 boolean Indexing을 사용해서 국내 시장지수(etfTabCode == 1)의 데이터들만 확인\n",
    "# 조건문의 결과가 Index와  True, False 로 나오기 때문에 boolean Indexing\n",
    "df[df[\"etfTabCode\"] == 1]"
   ]
  },
  {
   "cell_type": "markdown",
   "metadata": {
    "id": "SAp8CMEYNw8H"
   },
   "source": [
    "## 데이터 전처리\n",
    "### etfTabName 만들기"
   ]
  },
  {
   "cell_type": "code",
   "execution_count": 11,
   "metadata": {
    "id": "8YTSMwXgBYkq"
   },
   "outputs": [
    {
     "data": {
      "text/plain": [
       "'전체\\n국내 시장지수\\n국내 업종/테마\\n국내 파생\\n해외 주식\\n원자재\\n채권\\n기타'"
      ]
     },
     "execution_count": 11,
     "metadata": {},
     "output_type": "execute_result"
    }
   ],
   "source": [
    "# etf name을 구분하기 위한 list를 만들기\n",
    "# \"\"\" 를 이용해 \\n을 포함하는 string을 만들고 split으로 나누어서 list를 간편히 만들 수 있음\n",
    "eftcode = \"\"\"전체\n",
    "국내 시장지수\n",
    "국내 업종/테마\n",
    "국내 파생\n",
    "해외 주식\n",
    "원자재\n",
    "채권\n",
    "기타\"\"\"\n",
    "eftcode"
   ]
  },
  {
   "cell_type": "code",
   "execution_count": 13,
   "metadata": {
    "id": "H7AFA9ftBYkq"
   },
   "outputs": [
    {
     "data": {
      "text/plain": [
       "['전체', '국내 시장지수', '국내 업종/테마', '국내 파생', '해외 주식', '원자재', '채권', '기타']"
      ]
     },
     "execution_count": 13,
     "metadata": {},
     "output_type": "execute_result"
    }
   ],
   "source": [
    "# split으로 나누어 list형 데이터를 만들기\n",
    "etf_tab_name = eftcode.split(\"\\n\")\n",
    "etf_tab_name"
   ]
  },
  {
   "cell_type": "code",
   "execution_count": 14,
   "metadata": {},
   "outputs": [
    {
     "data": {
      "text/plain": [
       "'국내 업종/테마'"
      ]
     },
     "execution_count": 14,
     "metadata": {},
     "output_type": "execute_result"
    }
   ],
   "source": [
    "def find_eft_tab_name(no):\n",
    "    return etf_tab_name[no]\n",
    "\n",
    "find_eft_tab_name(2)"
   ]
  },
  {
   "cell_type": "code",
   "execution_count": 15,
   "metadata": {
    "id": "LrmLD2j0BYkq"
   },
   "outputs": [],
   "source": [
    "# etfTabName 이름이 직관적이지 않기 때문에 한글로 변경\n",
    "# map과 lambda 함수를 이용하여 eftTabCode column들의 각 cell의 내용에 따라\n",
    "# etf_tab_name list의 원소값에 따라 이름을 만들어 주고 etfTabName 이라는 새로운 컬럼을 생성\n",
    "# 즉 etfTabCode 숫자 -> list의 원소 인덱스로 한글 이름을 매핑해 줍니다. -> etfTabName에 한글로 저장\n",
    "df[\"etfTabName\"] = df[\"etfTabCode\"].map(lambda x : etf_tab_name[x])"
   ]
  },
  {
   "cell_type": "code",
   "execution_count": 16,
   "metadata": {},
   "outputs": [
    {
     "data": {
      "text/html": [
       "<div>\n",
       "<style scoped>\n",
       "    .dataframe tbody tr th:only-of-type {\n",
       "        vertical-align: middle;\n",
       "    }\n",
       "\n",
       "    .dataframe tbody tr th {\n",
       "        vertical-align: top;\n",
       "    }\n",
       "\n",
       "    .dataframe thead th {\n",
       "        text-align: right;\n",
       "    }\n",
       "</style>\n",
       "<table border=\"1\" class=\"dataframe\">\n",
       "  <thead>\n",
       "    <tr style=\"text-align: right;\">\n",
       "      <th></th>\n",
       "      <th>itemcode</th>\n",
       "      <th>etfTabCode</th>\n",
       "      <th>itemname</th>\n",
       "      <th>nowVal</th>\n",
       "      <th>risefall</th>\n",
       "      <th>changeVal</th>\n",
       "      <th>changeRate</th>\n",
       "      <th>nav</th>\n",
       "      <th>threeMonthEarnRate</th>\n",
       "      <th>quant</th>\n",
       "      <th>amonut</th>\n",
       "      <th>marketSum</th>\n",
       "      <th>etfTabName</th>\n",
       "    </tr>\n",
       "  </thead>\n",
       "  <tbody>\n",
       "    <tr>\n",
       "      <th>0</th>\n",
       "      <td>459580</td>\n",
       "      <td>6</td>\n",
       "      <td>KODEX CD금리액티브(합성)</td>\n",
       "      <td>1035155</td>\n",
       "      <td>2</td>\n",
       "      <td>100</td>\n",
       "      <td>0.01</td>\n",
       "      <td>1035156.0</td>\n",
       "      <td>0.8840</td>\n",
       "      <td>344339</td>\n",
       "      <td>356445</td>\n",
       "      <td>83168</td>\n",
       "      <td>채권</td>\n",
       "    </tr>\n",
       "    <tr>\n",
       "      <th>1</th>\n",
       "      <td>357870</td>\n",
       "      <td>6</td>\n",
       "      <td>TIGER CD금리투자KIS(합성)</td>\n",
       "      <td>54265</td>\n",
       "      <td>2</td>\n",
       "      <td>5</td>\n",
       "      <td>0.01</td>\n",
       "      <td>54258.0</td>\n",
       "      <td>0.8456</td>\n",
       "      <td>132995</td>\n",
       "      <td>7216</td>\n",
       "      <td>73403</td>\n",
       "      <td>채권</td>\n",
       "    </tr>\n",
       "    <tr>\n",
       "      <th>2</th>\n",
       "      <td>069500</td>\n",
       "      <td>1</td>\n",
       "      <td>KODEX 200</td>\n",
       "      <td>37460</td>\n",
       "      <td>2</td>\n",
       "      <td>130</td>\n",
       "      <td>0.35</td>\n",
       "      <td>37556.0</td>\n",
       "      <td>6.5840</td>\n",
       "      <td>1895070</td>\n",
       "      <td>70864</td>\n",
       "      <td>63813</td>\n",
       "      <td>국내 시장지수</td>\n",
       "    </tr>\n",
       "    <tr>\n",
       "      <th>3</th>\n",
       "      <td>423160</td>\n",
       "      <td>6</td>\n",
       "      <td>KODEX KOFR금리액티브(합성)</td>\n",
       "      <td>106685</td>\n",
       "      <td>3</td>\n",
       "      <td>0</td>\n",
       "      <td>0.00</td>\n",
       "      <td>106678.0</td>\n",
       "      <td>0.8841</td>\n",
       "      <td>609048</td>\n",
       "      <td>64976</td>\n",
       "      <td>52336</td>\n",
       "      <td>채권</td>\n",
       "    </tr>\n",
       "    <tr>\n",
       "      <th>4</th>\n",
       "      <td>449170</td>\n",
       "      <td>6</td>\n",
       "      <td>TIGER KOFR금리액티브(합성)</td>\n",
       "      <td>105225</td>\n",
       "      <td>2</td>\n",
       "      <td>10</td>\n",
       "      <td>0.01</td>\n",
       "      <td>105221.0</td>\n",
       "      <td>0.8869</td>\n",
       "      <td>42740</td>\n",
       "      <td>4497</td>\n",
       "      <td>37320</td>\n",
       "      <td>채권</td>\n",
       "    </tr>\n",
       "    <tr>\n",
       "      <th>...</th>\n",
       "      <td>...</td>\n",
       "      <td>...</td>\n",
       "      <td>...</td>\n",
       "      <td>...</td>\n",
       "      <td>...</td>\n",
       "      <td>...</td>\n",
       "      <td>...</td>\n",
       "      <td>...</td>\n",
       "      <td>...</td>\n",
       "      <td>...</td>\n",
       "      <td>...</td>\n",
       "      <td>...</td>\n",
       "      <td>...</td>\n",
       "    </tr>\n",
       "    <tr>\n",
       "      <th>851</th>\n",
       "      <td>412560</td>\n",
       "      <td>2</td>\n",
       "      <td>TIGER BBIG레버리지</td>\n",
       "      <td>2210</td>\n",
       "      <td>2</td>\n",
       "      <td>25</td>\n",
       "      <td>1.14</td>\n",
       "      <td>2226.0</td>\n",
       "      <td>-0.9071</td>\n",
       "      <td>4169</td>\n",
       "      <td>9</td>\n",
       "      <td>19</td>\n",
       "      <td>국내 업종/테마</td>\n",
       "    </tr>\n",
       "    <tr>\n",
       "      <th>852</th>\n",
       "      <td>252730</td>\n",
       "      <td>2</td>\n",
       "      <td>KBSTAR 모멘텀로우볼</td>\n",
       "      <td>16285</td>\n",
       "      <td>2</td>\n",
       "      <td>75</td>\n",
       "      <td>0.46</td>\n",
       "      <td>16300.0</td>\n",
       "      <td>6.8204</td>\n",
       "      <td>12</td>\n",
       "      <td>0</td>\n",
       "      <td>16</td>\n",
       "      <td>국내 업종/테마</td>\n",
       "    </tr>\n",
       "    <tr>\n",
       "      <th>853</th>\n",
       "      <td>287330</td>\n",
       "      <td>2</td>\n",
       "      <td>KBSTAR 200생활소비재</td>\n",
       "      <td>6415</td>\n",
       "      <td>5</td>\n",
       "      <td>-5</td>\n",
       "      <td>-0.08</td>\n",
       "      <td>6415.0</td>\n",
       "      <td>8.2995</td>\n",
       "      <td>2140</td>\n",
       "      <td>13</td>\n",
       "      <td>14</td>\n",
       "      <td>국내 업종/테마</td>\n",
       "    </tr>\n",
       "    <tr>\n",
       "      <th>854</th>\n",
       "      <td>315480</td>\n",
       "      <td>2</td>\n",
       "      <td>KBSTAR 200커뮤니케이션서비스</td>\n",
       "      <td>10965</td>\n",
       "      <td>2</td>\n",
       "      <td>25</td>\n",
       "      <td>0.23</td>\n",
       "      <td>10969.0</td>\n",
       "      <td>-1.9011</td>\n",
       "      <td>119</td>\n",
       "      <td>1</td>\n",
       "      <td>13</td>\n",
       "      <td>국내 업종/테마</td>\n",
       "    </tr>\n",
       "    <tr>\n",
       "      <th>855</th>\n",
       "      <td>287320</td>\n",
       "      <td>2</td>\n",
       "      <td>KBSTAR 200산업재</td>\n",
       "      <td>12495</td>\n",
       "      <td>2</td>\n",
       "      <td>125</td>\n",
       "      <td>1.01</td>\n",
       "      <td>12504.0</td>\n",
       "      <td>8.0443</td>\n",
       "      <td>149</td>\n",
       "      <td>1</td>\n",
       "      <td>10</td>\n",
       "      <td>국내 업종/테마</td>\n",
       "    </tr>\n",
       "  </tbody>\n",
       "</table>\n",
       "<p>856 rows × 13 columns</p>\n",
       "</div>"
      ],
      "text/plain": [
       "    itemcode  etfTabCode             itemname   nowVal  risefall  changeVal  \\\n",
       "0     459580           6    KODEX CD금리액티브(합성)  1035155         2        100   \n",
       "1     357870           6  TIGER CD금리투자KIS(합성)    54265         2          5   \n",
       "2     069500           1            KODEX 200    37460         2        130   \n",
       "3     423160           6  KODEX KOFR금리액티브(합성)   106685         3          0   \n",
       "4     449170           6  TIGER KOFR금리액티브(합성)   105225         2         10   \n",
       "..       ...         ...                  ...      ...       ...        ...   \n",
       "851   412560           2       TIGER BBIG레버리지     2210         2         25   \n",
       "852   252730           2        KBSTAR 모멘텀로우볼    16285         2         75   \n",
       "853   287330           2      KBSTAR 200생활소비재     6415         5         -5   \n",
       "854   315480           2  KBSTAR 200커뮤니케이션서비스    10965         2         25   \n",
       "855   287320           2        KBSTAR 200산업재    12495         2        125   \n",
       "\n",
       "     changeRate        nav  threeMonthEarnRate    quant  amonut  marketSum  \\\n",
       "0          0.01  1035156.0              0.8840   344339  356445      83168   \n",
       "1          0.01    54258.0              0.8456   132995    7216      73403   \n",
       "2          0.35    37556.0              6.5840  1895070   70864      63813   \n",
       "3          0.00   106678.0              0.8841   609048   64976      52336   \n",
       "4          0.01   105221.0              0.8869    42740    4497      37320   \n",
       "..          ...        ...                 ...      ...     ...        ...   \n",
       "851        1.14     2226.0             -0.9071     4169       9         19   \n",
       "852        0.46    16300.0              6.8204       12       0         16   \n",
       "853       -0.08     6415.0              8.2995     2140      13         14   \n",
       "854        0.23    10969.0             -1.9011      119       1         13   \n",
       "855        1.01    12504.0              8.0443      149       1         10   \n",
       "\n",
       "    etfTabName  \n",
       "0           채권  \n",
       "1           채권  \n",
       "2      국내 시장지수  \n",
       "3           채권  \n",
       "4           채권  \n",
       "..         ...  \n",
       "851   국내 업종/테마  \n",
       "852   국내 업종/테마  \n",
       "853   국내 업종/테마  \n",
       "854   국내 업종/테마  \n",
       "855   국내 업종/테마  \n",
       "\n",
       "[856 rows x 13 columns]"
      ]
     },
     "execution_count": 16,
     "metadata": {},
     "output_type": "execute_result"
    }
   ],
   "source": [
    "df"
   ]
  },
  {
   "cell_type": "code",
   "execution_count": 17,
   "metadata": {
    "id": "ked6jOdgBYkq"
   },
   "outputs": [
    {
     "data": {
      "text/html": [
       "<div>\n",
       "<style scoped>\n",
       "    .dataframe tbody tr th:only-of-type {\n",
       "        vertical-align: middle;\n",
       "    }\n",
       "\n",
       "    .dataframe tbody tr th {\n",
       "        vertical-align: top;\n",
       "    }\n",
       "\n",
       "    .dataframe thead th {\n",
       "        text-align: right;\n",
       "    }\n",
       "</style>\n",
       "<table border=\"1\" class=\"dataframe\">\n",
       "  <thead>\n",
       "    <tr style=\"text-align: right;\">\n",
       "      <th></th>\n",
       "      <th>itemname</th>\n",
       "      <th>etfTabName</th>\n",
       "    </tr>\n",
       "  </thead>\n",
       "  <tbody>\n",
       "    <tr>\n",
       "      <th>11</th>\n",
       "      <td>KODEX 레버리지</td>\n",
       "      <td>국내 파생</td>\n",
       "    </tr>\n",
       "    <tr>\n",
       "      <th>16</th>\n",
       "      <td>KODEX 200선물인버스2X</td>\n",
       "      <td>국내 파생</td>\n",
       "    </tr>\n",
       "    <tr>\n",
       "      <th>28</th>\n",
       "      <td>KODEX 코스닥150레버리지</td>\n",
       "      <td>국내 파생</td>\n",
       "    </tr>\n",
       "    <tr>\n",
       "      <th>52</th>\n",
       "      <td>KODEX 인버스</td>\n",
       "      <td>국내 파생</td>\n",
       "    </tr>\n",
       "    <tr>\n",
       "      <th>69</th>\n",
       "      <td>KODEX 코스닥150선물인버스</td>\n",
       "      <td>국내 파생</td>\n",
       "    </tr>\n",
       "  </tbody>\n",
       "</table>\n",
       "</div>"
      ],
      "text/plain": [
       "             itemname etfTabName\n",
       "11         KODEX 레버리지      국내 파생\n",
       "16   KODEX 200선물인버스2X      국내 파생\n",
       "28   KODEX 코스닥150레버리지      국내 파생\n",
       "52          KODEX 인버스      국내 파생\n",
       "69  KODEX 코스닥150선물인버스      국내 파생"
      ]
     },
     "execution_count": 17,
     "metadata": {},
     "output_type": "execute_result"
    }
   ],
   "source": [
    "# etfTabName column이 제대로 만들어졌는지 확인\n",
    "df.loc[df[\"etfTabCode\"] == 3, [\"itemname\", \"etfTabName\"]].head()"
   ]
  },
  {
   "cell_type": "markdown",
   "metadata": {},
   "source": [
    "* map : \n",
    "    * Series에서만 사용가능\n",
    "    * [Essential basic functionality — pandas documentation](https://pandas.pydata.org/docs/user_guide/basics.html?#applying-elementwise-functions)\n",
    "\n",
    "* apply :\n",
    "    * Series와 DataFrame 둘 다 사용가능\n",
    "    * [Essential basic functionality — pandas documentation](https://pandas.pydata.org/docs/user_guide/basics.html?#row-or-column-wise-function-application)"
   ]
  },
  {
   "cell_type": "markdown",
   "metadata": {},
   "source": [
    "### 컬럼명 변경하기"
   ]
  },
  {
   "cell_type": "code",
   "execution_count": 18,
   "metadata": {},
   "outputs": [
    {
     "data": {
      "text/plain": [
       "'종목명\\n현재가\\n전일비\\n등락률\\nNAV\\n3개월수익률\\n거래량\\n거래대금(백만)\\n시가총액(억)\\n'"
      ]
     },
     "execution_count": 18,
     "metadata": {},
     "output_type": "execute_result"
    }
   ],
   "source": [
    "\"\"\"종목명\n",
    "현재가\n",
    "전일비\n",
    "등락률\n",
    "NAV\n",
    "3개월수익률\n",
    "거래량\n",
    "거래대금(백만)\n",
    "시가총액(억)\n",
    "\"\"\""
   ]
  },
  {
   "cell_type": "code",
   "execution_count": 19,
   "metadata": {
    "id": "hmI_1aqBBYkq"
   },
   "outputs": [
    {
     "data": {
      "text/plain": [
       "['itemcode',\n",
       " 'etfTabCode',\n",
       " 'itemname',\n",
       " 'nowVal',\n",
       " 'risefall',\n",
       " 'changeVal',\n",
       " 'changeRate',\n",
       " 'nav',\n",
       " 'threeMonthEarnRate',\n",
       " 'quant',\n",
       " 'amonut',\n",
       " 'marketSum',\n",
       " 'etfTabName']"
      ]
     },
     "execution_count": 19,
     "metadata": {},
     "output_type": "execute_result"
    }
   ],
   "source": [
    "# DataFrame df의 column 이름을 list로 만들어서 cols 라는 변수에 담기\n",
    "cols = df.columns.tolist()\n",
    "cols"
   ]
  },
  {
   "cell_type": "code",
   "execution_count": 21,
   "metadata": {
    "id": "1TF4kMp1BYkq"
   },
   "outputs": [
    {
     "data": {
      "text/plain": [
       "['종목코드',\n",
       " '탭코드',\n",
       " '종목명',\n",
       " '현재가',\n",
       " '등락구분',\n",
       " '전일비',\n",
       " '등락률',\n",
       " '순자산가치(NAV)',\n",
       " '3개월수익률',\n",
       " '거래량',\n",
       " '거래대금(백만)',\n",
       " '시가총액(억)',\n",
       " '유형']"
      ]
     },
     "execution_count": 21,
     "metadata": {},
     "output_type": "execute_result"
    }
   ],
   "source": [
    "# 영어로 되어있는 column 이름을 한글로 바꾸기 위한 list\n",
    "# 빠진 column이 있는지 리스트와 길이를 확인\n",
    "col_name = \"\"\"종목코드\n",
    "탭코드\n",
    "종목명\n",
    "현재가\n",
    "등락구분\n",
    "전일비\n",
    "등락률\n",
    "순자산가치(NAV)\n",
    "3개월수익률\n",
    "거래량\n",
    "거래대금(백만)\n",
    "시가총액(억)\n",
    "유형\"\"\"\n",
    "col_name = col_name.split(\"\\n\")\n",
    "col_name"
   ]
  },
  {
   "cell_type": "code",
   "execution_count": 22,
   "metadata": {
    "id": "3N22l3f6BYkr"
   },
   "outputs": [
    {
     "data": {
      "text/plain": [
       "{'itemcode': '종목코드',\n",
       " 'etfTabCode': '탭코드',\n",
       " 'itemname': '종목명',\n",
       " 'nowVal': '현재가',\n",
       " 'risefall': '등락구분',\n",
       " 'changeVal': '전일비',\n",
       " 'changeRate': '등락률',\n",
       " 'nav': '순자산가치(NAV)',\n",
       " 'threeMonthEarnRate': '3개월수익률',\n",
       " 'quant': '거래량',\n",
       " 'amonut': '거래대금(백만)',\n",
       " 'marketSum': '시가총액(억)',\n",
       " 'etfTabName': '유형'}"
      ]
     },
     "execution_count": 22,
     "metadata": {},
     "output_type": "execute_result"
    }
   ],
   "source": [
    "# 컬럼 영문명과 한글명을 딕셔너리 형태로 만들어 비교해 볼 수도 있음\n",
    "# 딕셔너리로 키-값 쌍을 만들어 컬럼의 키와 값이 잘 매치되었는지 확인\n",
    "dict(zip(cols, col_name))"
   ]
  },
  {
   "cell_type": "code",
   "execution_count": 23,
   "metadata": {
    "id": "ieQ9S3L-BYkr"
   },
   "outputs": [
    {
     "data": {
      "text/plain": [
       "Index(['종목코드', '탭코드', '종목명', '현재가', '등락구분', '전일비', '등락률', '순자산가치(NAV)',\n",
       "       '3개월수익률', '거래량', '거래대금(백만)', '시가총액(억)', '유형'],\n",
       "      dtype='object')"
      ]
     },
     "execution_count": 23,
     "metadata": {},
     "output_type": "execute_result"
    }
   ],
   "source": [
    "# 기존의 데이터프레임 컬럼명에 위에서 만든 컬럼명을 할당연산자로 대입해 주면 컬럼명이 변경\n",
    "# 컬럼 변경 후 한글로 컬럼명이 잘 변경되었는지 확인\n",
    "df.columns = col_name\n",
    "df.columns"
   ]
  },
  {
   "cell_type": "markdown",
   "metadata": {},
   "source": [
    "### 파생변수 만들기\n",
    "* 브랜드, 인버스, 레버리지, 환헤지H 변수 만들기\n",
    "* [Working with text data — pandas documentation](https://pandas.pydata.org/docs/user_guide/text.html)"
   ]
  },
  {
   "cell_type": "code",
   "execution_count": 25,
   "metadata": {
    "id": "F-8P7v-3BYkr",
    "scrolled": true
   },
   "outputs": [
    {
     "data": {
      "text/html": [
       "<div>\n",
       "<style scoped>\n",
       "    .dataframe tbody tr th:only-of-type {\n",
       "        vertical-align: middle;\n",
       "    }\n",
       "\n",
       "    .dataframe tbody tr th {\n",
       "        vertical-align: top;\n",
       "    }\n",
       "\n",
       "    .dataframe thead th {\n",
       "        text-align: right;\n",
       "    }\n",
       "</style>\n",
       "<table border=\"1\" class=\"dataframe\">\n",
       "  <thead>\n",
       "    <tr style=\"text-align: right;\">\n",
       "      <th></th>\n",
       "      <th>브랜드</th>\n",
       "      <th>종목명</th>\n",
       "    </tr>\n",
       "  </thead>\n",
       "  <tbody>\n",
       "    <tr>\n",
       "      <th>0</th>\n",
       "      <td>KODEX</td>\n",
       "      <td>KODEX CD금리액티브(합성)</td>\n",
       "    </tr>\n",
       "    <tr>\n",
       "      <th>1</th>\n",
       "      <td>TIGER</td>\n",
       "      <td>TIGER CD금리투자KIS(합성)</td>\n",
       "    </tr>\n",
       "    <tr>\n",
       "      <th>2</th>\n",
       "      <td>KODEX</td>\n",
       "      <td>KODEX 200</td>\n",
       "    </tr>\n",
       "    <tr>\n",
       "      <th>3</th>\n",
       "      <td>KODEX</td>\n",
       "      <td>KODEX KOFR금리액티브(합성)</td>\n",
       "    </tr>\n",
       "    <tr>\n",
       "      <th>4</th>\n",
       "      <td>TIGER</td>\n",
       "      <td>TIGER KOFR금리액티브(합성)</td>\n",
       "    </tr>\n",
       "  </tbody>\n",
       "</table>\n",
       "</div>"
      ],
      "text/plain": [
       "     브랜드                  종목명\n",
       "0  KODEX    KODEX CD금리액티브(합성)\n",
       "1  TIGER  TIGER CD금리투자KIS(합성)\n",
       "2  KODEX            KODEX 200\n",
       "3  KODEX  KODEX KOFR금리액티브(합성)\n",
       "4  TIGER  TIGER KOFR금리액티브(합성)"
      ]
     },
     "execution_count": 25,
     "metadata": {},
     "output_type": "execute_result"
    }
   ],
   "source": [
    "# 종목명 column의 데이터를 space(\" \")를 이용해 나누고 제일 앞부분[0]을 새로운 column을 만들어 저장\n",
    "# expand = True 옵션을 사용하면 문자열을 나눈 값을 인덱스 순서대로 가져와서 사용할 수 있음\n",
    "# df[\"브랜드\"]\n",
    "df[\"브랜드\"] = df[\"종목명\"].str.split(\" \", expand=True)[0]\n",
    "df[[\"브랜드\", \"종목명\"]].head()"
   ]
  },
  {
   "cell_type": "code",
   "execution_count": 24,
   "metadata": {},
   "outputs": [
    {
     "data": {
      "text/plain": [
       "'KODEX'"
      ]
     },
     "execution_count": 24,
     "metadata": {},
     "output_type": "execute_result"
    }
   ],
   "source": [
    "\"KODEX 200\".split()[0]"
   ]
  },
  {
   "cell_type": "markdown",
   "metadata": {
    "id": "d0YQdJoABYkr"
   },
   "source": [
    "* 종목명 column의 내용중이 '인버스'라는 단어가 있으면 새로운 column '인버스'에 True 값이 들어가게 됩니다.\n",
    "* contains는 bool type을 반환하기 때문에 새로운 column에는 True나 False가 들어가게 됩니다.\n",
    "* 마찬가지로 '레버리지'와 '환헤지H'에 대해서도 동일하게 만들어 줍니다. \n",
    "* H라는 단어가 종목명에 들어갈 수도 있기 때문에 H뒤에 닫는 소괄호\")\"까지 확인합니다.\n",
    "* 소괄호는 정규표현식에서 의미를 가지는 문자이기 때문에 문자 그대로 읽어오기 위해서는 \"\\\"로 전처리가 필요합니다."
   ]
  },
  {
   "cell_type": "code",
   "execution_count": 26,
   "metadata": {
    "id": "d0YQdJoABYkr"
   },
   "outputs": [
    {
     "data": {
      "text/plain": [
       "False    94.626168\n",
       "True      5.373832\n",
       "Name: 인버스, dtype: float64"
      ]
     },
     "execution_count": 26,
     "metadata": {},
     "output_type": "execute_result"
    }
   ],
   "source": [
    "# 인버스ETF는 지수가 하락하면 오히려 수익률이 오르도록 설계된 상품\n",
    "df[\"인버스\"] = df[\"종목명\"].str.contains(\"인버스\")\n",
    "df[\"인버스\"].value_counts(normalize=True) * 100"
   ]
  },
  {
   "cell_type": "markdown",
   "metadata": {},
   "source": [
    "레버리지(leverage)는 타인의 자본을 지렛대처럼 이용하여 자기 자본의 이익률을 높이는 것이다. 고정비용이 있을 때 매출액의 변화가 기업의 손익에 미치는 영향을 분석하는 데에 쓰인다. 이는 고정영업비용과 고정재무비용의 부담정도에 따라 기업에게 귀속되는 최종적인 주당이익에 어떤 영향을 미치는지 분석할 수 있게 한다.\n",
    "\n",
    "* 출처 : [레버리지 - 위키백과, 우리 모두의 백과사전](https://ko.wikipedia.org/wiki/%EB%A0%88%EB%B2%84%EB%A6%AC%EC%A7%80)"
   ]
  },
  {
   "cell_type": "code",
   "execution_count": 27,
   "metadata": {
    "id": "d0YQdJoABYkr"
   },
   "outputs": [
    {
     "data": {
      "text/plain": [
       "False    94.742991\n",
       "True      5.257009\n",
       "Name: 레버리지, dtype: float64"
      ]
     },
     "execution_count": 27,
     "metadata": {},
     "output_type": "execute_result"
    }
   ],
   "source": [
    "df[\"레버리지\"] = df[\"종목명\"].str.contains(\"레버리지\")\n",
    "df[\"레버리지\"].value_counts(normalize=True) * 100"
   ]
  },
  {
   "cell_type": "markdown",
   "metadata": {},
   "source": [
    "헤지(hedge)란 환율, 금리 또는 다른 자산에 대한 투자등을 통해 보유하고 있는 위험자산의 가격변동을 제거하는 것을 말한다. 즉, 확정되지 않은 자산을 확정된 자산으로 편입하는 과정이라 할 수 있으며, 주로 선물 옵션과 같은 파생상품을 이용한다. 이를 통해 체계적 위험을 제거할 수 있다.\n",
    "\n",
    "부(wealth)를 결정하는 변수값의 변화와 관계없이 항상 일정한 부를 유지하게 하는 헤지를 완전헤지라고 하고, 그렇지 못한 것을 불완전헤지라고 한다.\n",
    "* 출처 : [헤지 - 위키백과, 우리 모두의 백과사전](https://ko.wikipedia.org/wiki/%ED%97%A4%EC%A7%80)"
   ]
  },
  {
   "cell_type": "code",
   "execution_count": 28,
   "metadata": {
    "id": "d0YQdJoABYkr"
   },
   "outputs": [
    {
     "data": {
      "text/html": [
       "<div>\n",
       "<style scoped>\n",
       "    .dataframe tbody tr th:only-of-type {\n",
       "        vertical-align: middle;\n",
       "    }\n",
       "\n",
       "    .dataframe tbody tr th {\n",
       "        vertical-align: top;\n",
       "    }\n",
       "\n",
       "    .dataframe thead th {\n",
       "        text-align: right;\n",
       "    }\n",
       "</style>\n",
       "<table border=\"1\" class=\"dataframe\">\n",
       "  <thead>\n",
       "    <tr style=\"text-align: right;\">\n",
       "      <th></th>\n",
       "      <th>종목명</th>\n",
       "      <th>환헤지H</th>\n",
       "    </tr>\n",
       "  </thead>\n",
       "  <tbody>\n",
       "    <tr>\n",
       "      <th>25</th>\n",
       "      <td>ACE 미국30년국채액티브(H)</td>\n",
       "      <td>True</td>\n",
       "    </tr>\n",
       "    <tr>\n",
       "      <th>55</th>\n",
       "      <td>KODEX 미국빅테크10(H)</td>\n",
       "      <td>True</td>\n",
       "    </tr>\n",
       "    <tr>\n",
       "      <th>70</th>\n",
       "      <td>TIGER 미국30년국채스트립액티브(합성 H)</td>\n",
       "      <td>True</td>\n",
       "    </tr>\n",
       "    <tr>\n",
       "      <th>91</th>\n",
       "      <td>KODEX 미국30년국채울트라선물(H)</td>\n",
       "      <td>True</td>\n",
       "    </tr>\n",
       "    <tr>\n",
       "      <th>93</th>\n",
       "      <td>TIGER 미국30년국채프리미엄액티브(H)</td>\n",
       "      <td>True</td>\n",
       "    </tr>\n",
       "  </tbody>\n",
       "</table>\n",
       "</div>"
      ],
      "text/plain": [
       "                          종목명  환헤지H\n",
       "25          ACE 미국30년국채액티브(H)  True\n",
       "55           KODEX 미국빅테크10(H)  True\n",
       "70  TIGER 미국30년국채스트립액티브(합성 H)  True\n",
       "91      KODEX 미국30년국채울트라선물(H)  True\n",
       "93    TIGER 미국30년국채프리미엄액티브(H)  True"
      ]
     },
     "execution_count": 28,
     "metadata": {},
     "output_type": "execute_result"
    }
   ],
   "source": [
    "# (H)의 의미는 환율변동 위험을 막기 위해 Hedge를 한다는 의미\n",
    "df[\"환헤지H\"] = df[\"종목명\"].str.endswith(\"H)\")\n",
    "df.loc[df[\"환헤지H\"] == True, [\"종목명\", \"환헤지H\"]].head()"
   ]
  },
  {
   "cell_type": "markdown",
   "metadata": {},
   "source": [
    "### 전처리가 잘 되었는지 확인하기"
   ]
  },
  {
   "cell_type": "code",
   "execution_count": 29,
   "metadata": {},
   "outputs": [
    {
     "data": {
      "text/plain": [
       "2    571\n",
       "5    234\n",
       "3     51\n",
       "Name: 등락구분, dtype: int64"
      ]
     },
     "execution_count": 29,
     "metadata": {},
     "output_type": "execute_result"
    }
   ],
   "source": [
    "# 등락구분에 있는 값의 빈도수를 count\n",
    "df[\"등락구분\"].value_counts()"
   ]
  },
  {
   "cell_type": "code",
   "execution_count": 30,
   "metadata": {
    "id": "MCaYBOfYBYkr"
   },
   "outputs": [
    {
     "name": "stdout",
     "output_type": "stream",
     "text": [
      "<class 'pandas.core.frame.DataFrame'>\n",
      "RangeIndex: 856 entries, 0 to 855\n",
      "Data columns (total 17 columns):\n",
      " #   Column      Non-Null Count  Dtype  \n",
      "---  ------      --------------  -----  \n",
      " 0   종목코드        856 non-null    object \n",
      " 1   탭코드         856 non-null    int64  \n",
      " 2   종목명         856 non-null    object \n",
      " 3   현재가         856 non-null    int64  \n",
      " 4   등락구분        856 non-null    int64  \n",
      " 5   전일비         856 non-null    int64  \n",
      " 6   등락률         856 non-null    float64\n",
      " 7   순자산가치(NAV)  856 non-null    float64\n",
      " 8   3개월수익률      822 non-null    float64\n",
      " 9   거래량         856 non-null    int64  \n",
      " 10  거래대금(백만)    856 non-null    int64  \n",
      " 11  시가총액(억)     856 non-null    int64  \n",
      " 12  유형          856 non-null    object \n",
      " 13  브랜드         856 non-null    object \n",
      " 14  인버스         856 non-null    bool   \n",
      " 15  레버리지        856 non-null    bool   \n",
      " 16  환헤지H        856 non-null    bool   \n",
      "dtypes: bool(3), float64(3), int64(7), object(4)\n",
      "memory usage: 96.3+ KB\n"
     ]
    }
   ],
   "source": [
    "# 전체적으로 데이터 전처리가 끝났다면 info를 통해 데이터 요약정보 보기\n",
    "df.info()"
   ]
  },
  {
   "cell_type": "markdown",
   "metadata": {},
   "source": [
    "## 파일로 저장하기"
   ]
  },
  {
   "cell_type": "code",
   "execution_count": 31,
   "metadata": {},
   "outputs": [
    {
     "data": {
      "text/plain": [
       "'eft_2024-05-08.csv'"
      ]
     },
     "execution_count": 31,
     "metadata": {},
     "output_type": "execute_result"
    }
   ],
   "source": [
    "# 기존에 불러왔던 파일명에서 _raw를 제거하고 새로운 파일명으로 저장\n",
    "save_file_name = file_name.replace(\"_raw\", \"\")\n",
    "save_file_name"
   ]
  },
  {
   "cell_type": "code",
   "execution_count": 32,
   "metadata": {
    "id": "WTKYc0eBBYkt"
   },
   "outputs": [],
   "source": [
    "# pandas의 to_csv로 파일을 저장\n",
    "# index=False로 인덱스값은 저장하지 않음\n",
    "df.to_csv(save_file_name, index=False)"
   ]
  },
  {
   "cell_type": "code",
   "execution_count": 33,
   "metadata": {},
   "outputs": [
    {
     "data": {
      "text/html": [
       "<div>\n",
       "<style scoped>\n",
       "    .dataframe tbody tr th:only-of-type {\n",
       "        vertical-align: middle;\n",
       "    }\n",
       "\n",
       "    .dataframe tbody tr th {\n",
       "        vertical-align: top;\n",
       "    }\n",
       "\n",
       "    .dataframe thead th {\n",
       "        text-align: right;\n",
       "    }\n",
       "</style>\n",
       "<table border=\"1\" class=\"dataframe\">\n",
       "  <thead>\n",
       "    <tr style=\"text-align: right;\">\n",
       "      <th></th>\n",
       "      <th>종목코드</th>\n",
       "      <th>탭코드</th>\n",
       "      <th>종목명</th>\n",
       "      <th>현재가</th>\n",
       "      <th>등락구분</th>\n",
       "      <th>전일비</th>\n",
       "      <th>등락률</th>\n",
       "      <th>순자산가치(NAV)</th>\n",
       "      <th>3개월수익률</th>\n",
       "      <th>거래량</th>\n",
       "      <th>거래대금(백만)</th>\n",
       "      <th>시가총액(억)</th>\n",
       "      <th>유형</th>\n",
       "      <th>브랜드</th>\n",
       "      <th>인버스</th>\n",
       "      <th>레버리지</th>\n",
       "      <th>환헤지H</th>\n",
       "    </tr>\n",
       "  </thead>\n",
       "  <tbody>\n",
       "    <tr>\n",
       "      <th>0</th>\n",
       "      <td>459580</td>\n",
       "      <td>6</td>\n",
       "      <td>KODEX CD금리액티브(합성)</td>\n",
       "      <td>1035155</td>\n",
       "      <td>2</td>\n",
       "      <td>100</td>\n",
       "      <td>0.01</td>\n",
       "      <td>1035156.0</td>\n",
       "      <td>0.8840</td>\n",
       "      <td>344339</td>\n",
       "      <td>356445</td>\n",
       "      <td>83168</td>\n",
       "      <td>채권</td>\n",
       "      <td>KODEX</td>\n",
       "      <td>False</td>\n",
       "      <td>False</td>\n",
       "      <td>False</td>\n",
       "    </tr>\n",
       "    <tr>\n",
       "      <th>1</th>\n",
       "      <td>357870</td>\n",
       "      <td>6</td>\n",
       "      <td>TIGER CD금리투자KIS(합성)</td>\n",
       "      <td>54265</td>\n",
       "      <td>2</td>\n",
       "      <td>5</td>\n",
       "      <td>0.01</td>\n",
       "      <td>54258.0</td>\n",
       "      <td>0.8456</td>\n",
       "      <td>132995</td>\n",
       "      <td>7216</td>\n",
       "      <td>73403</td>\n",
       "      <td>채권</td>\n",
       "      <td>TIGER</td>\n",
       "      <td>False</td>\n",
       "      <td>False</td>\n",
       "      <td>False</td>\n",
       "    </tr>\n",
       "    <tr>\n",
       "      <th>2</th>\n",
       "      <td>69500</td>\n",
       "      <td>1</td>\n",
       "      <td>KODEX 200</td>\n",
       "      <td>37460</td>\n",
       "      <td>2</td>\n",
       "      <td>130</td>\n",
       "      <td>0.35</td>\n",
       "      <td>37556.0</td>\n",
       "      <td>6.5840</td>\n",
       "      <td>1895070</td>\n",
       "      <td>70864</td>\n",
       "      <td>63813</td>\n",
       "      <td>국내 시장지수</td>\n",
       "      <td>KODEX</td>\n",
       "      <td>False</td>\n",
       "      <td>False</td>\n",
       "      <td>False</td>\n",
       "    </tr>\n",
       "    <tr>\n",
       "      <th>3</th>\n",
       "      <td>423160</td>\n",
       "      <td>6</td>\n",
       "      <td>KODEX KOFR금리액티브(합성)</td>\n",
       "      <td>106685</td>\n",
       "      <td>3</td>\n",
       "      <td>0</td>\n",
       "      <td>0.00</td>\n",
       "      <td>106678.0</td>\n",
       "      <td>0.8841</td>\n",
       "      <td>609048</td>\n",
       "      <td>64976</td>\n",
       "      <td>52336</td>\n",
       "      <td>채권</td>\n",
       "      <td>KODEX</td>\n",
       "      <td>False</td>\n",
       "      <td>False</td>\n",
       "      <td>False</td>\n",
       "    </tr>\n",
       "    <tr>\n",
       "      <th>4</th>\n",
       "      <td>449170</td>\n",
       "      <td>6</td>\n",
       "      <td>TIGER KOFR금리액티브(합성)</td>\n",
       "      <td>105225</td>\n",
       "      <td>2</td>\n",
       "      <td>10</td>\n",
       "      <td>0.01</td>\n",
       "      <td>105221.0</td>\n",
       "      <td>0.8869</td>\n",
       "      <td>42740</td>\n",
       "      <td>4497</td>\n",
       "      <td>37320</td>\n",
       "      <td>채권</td>\n",
       "      <td>TIGER</td>\n",
       "      <td>False</td>\n",
       "      <td>False</td>\n",
       "      <td>False</td>\n",
       "    </tr>\n",
       "    <tr>\n",
       "      <th>...</th>\n",
       "      <td>...</td>\n",
       "      <td>...</td>\n",
       "      <td>...</td>\n",
       "      <td>...</td>\n",
       "      <td>...</td>\n",
       "      <td>...</td>\n",
       "      <td>...</td>\n",
       "      <td>...</td>\n",
       "      <td>...</td>\n",
       "      <td>...</td>\n",
       "      <td>...</td>\n",
       "      <td>...</td>\n",
       "      <td>...</td>\n",
       "      <td>...</td>\n",
       "      <td>...</td>\n",
       "      <td>...</td>\n",
       "      <td>...</td>\n",
       "    </tr>\n",
       "    <tr>\n",
       "      <th>851</th>\n",
       "      <td>412560</td>\n",
       "      <td>2</td>\n",
       "      <td>TIGER BBIG레버리지</td>\n",
       "      <td>2210</td>\n",
       "      <td>2</td>\n",
       "      <td>25</td>\n",
       "      <td>1.14</td>\n",
       "      <td>2226.0</td>\n",
       "      <td>-0.9071</td>\n",
       "      <td>4169</td>\n",
       "      <td>9</td>\n",
       "      <td>19</td>\n",
       "      <td>국내 업종/테마</td>\n",
       "      <td>TIGER</td>\n",
       "      <td>False</td>\n",
       "      <td>True</td>\n",
       "      <td>False</td>\n",
       "    </tr>\n",
       "    <tr>\n",
       "      <th>852</th>\n",
       "      <td>252730</td>\n",
       "      <td>2</td>\n",
       "      <td>KBSTAR 모멘텀로우볼</td>\n",
       "      <td>16285</td>\n",
       "      <td>2</td>\n",
       "      <td>75</td>\n",
       "      <td>0.46</td>\n",
       "      <td>16300.0</td>\n",
       "      <td>6.8204</td>\n",
       "      <td>12</td>\n",
       "      <td>0</td>\n",
       "      <td>16</td>\n",
       "      <td>국내 업종/테마</td>\n",
       "      <td>KBSTAR</td>\n",
       "      <td>False</td>\n",
       "      <td>False</td>\n",
       "      <td>False</td>\n",
       "    </tr>\n",
       "    <tr>\n",
       "      <th>853</th>\n",
       "      <td>287330</td>\n",
       "      <td>2</td>\n",
       "      <td>KBSTAR 200생활소비재</td>\n",
       "      <td>6415</td>\n",
       "      <td>5</td>\n",
       "      <td>-5</td>\n",
       "      <td>-0.08</td>\n",
       "      <td>6415.0</td>\n",
       "      <td>8.2995</td>\n",
       "      <td>2140</td>\n",
       "      <td>13</td>\n",
       "      <td>14</td>\n",
       "      <td>국내 업종/테마</td>\n",
       "      <td>KBSTAR</td>\n",
       "      <td>False</td>\n",
       "      <td>False</td>\n",
       "      <td>False</td>\n",
       "    </tr>\n",
       "    <tr>\n",
       "      <th>854</th>\n",
       "      <td>315480</td>\n",
       "      <td>2</td>\n",
       "      <td>KBSTAR 200커뮤니케이션서비스</td>\n",
       "      <td>10965</td>\n",
       "      <td>2</td>\n",
       "      <td>25</td>\n",
       "      <td>0.23</td>\n",
       "      <td>10969.0</td>\n",
       "      <td>-1.9011</td>\n",
       "      <td>119</td>\n",
       "      <td>1</td>\n",
       "      <td>13</td>\n",
       "      <td>국내 업종/테마</td>\n",
       "      <td>KBSTAR</td>\n",
       "      <td>False</td>\n",
       "      <td>False</td>\n",
       "      <td>False</td>\n",
       "    </tr>\n",
       "    <tr>\n",
       "      <th>855</th>\n",
       "      <td>287320</td>\n",
       "      <td>2</td>\n",
       "      <td>KBSTAR 200산업재</td>\n",
       "      <td>12495</td>\n",
       "      <td>2</td>\n",
       "      <td>125</td>\n",
       "      <td>1.01</td>\n",
       "      <td>12504.0</td>\n",
       "      <td>8.0443</td>\n",
       "      <td>149</td>\n",
       "      <td>1</td>\n",
       "      <td>10</td>\n",
       "      <td>국내 업종/테마</td>\n",
       "      <td>KBSTAR</td>\n",
       "      <td>False</td>\n",
       "      <td>False</td>\n",
       "      <td>False</td>\n",
       "    </tr>\n",
       "  </tbody>\n",
       "</table>\n",
       "<p>856 rows × 17 columns</p>\n",
       "</div>"
      ],
      "text/plain": [
       "       종목코드  탭코드                  종목명      현재가  등락구분  전일비   등락률  순자산가치(NAV)  \\\n",
       "0    459580    6    KODEX CD금리액티브(합성)  1035155     2  100  0.01   1035156.0   \n",
       "1    357870    6  TIGER CD금리투자KIS(합성)    54265     2    5  0.01     54258.0   \n",
       "2     69500    1            KODEX 200    37460     2  130  0.35     37556.0   \n",
       "3    423160    6  KODEX KOFR금리액티브(합성)   106685     3    0  0.00    106678.0   \n",
       "4    449170    6  TIGER KOFR금리액티브(합성)   105225     2   10  0.01    105221.0   \n",
       "..      ...  ...                  ...      ...   ...  ...   ...         ...   \n",
       "851  412560    2       TIGER BBIG레버리지     2210     2   25  1.14      2226.0   \n",
       "852  252730    2        KBSTAR 모멘텀로우볼    16285     2   75  0.46     16300.0   \n",
       "853  287330    2      KBSTAR 200생활소비재     6415     5   -5 -0.08      6415.0   \n",
       "854  315480    2  KBSTAR 200커뮤니케이션서비스    10965     2   25  0.23     10969.0   \n",
       "855  287320    2        KBSTAR 200산업재    12495     2  125  1.01     12504.0   \n",
       "\n",
       "     3개월수익률      거래량  거래대금(백만)  시가총액(억)        유형     브랜드    인버스   레버리지   환헤지H  \n",
       "0    0.8840   344339    356445    83168        채권   KODEX  False  False  False  \n",
       "1    0.8456   132995      7216    73403        채권   TIGER  False  False  False  \n",
       "2    6.5840  1895070     70864    63813   국내 시장지수   KODEX  False  False  False  \n",
       "3    0.8841   609048     64976    52336        채권   KODEX  False  False  False  \n",
       "4    0.8869    42740      4497    37320        채권   TIGER  False  False  False  \n",
       "..      ...      ...       ...      ...       ...     ...    ...    ...    ...  \n",
       "851 -0.9071     4169         9       19  국내 업종/테마   TIGER  False   True  False  \n",
       "852  6.8204       12         0       16  국내 업종/테마  KBSTAR  False  False  False  \n",
       "853  8.2995     2140        13       14  국내 업종/테마  KBSTAR  False  False  False  \n",
       "854 -1.9011      119         1       13  국내 업종/테마  KBSTAR  False  False  False  \n",
       "855  8.0443      149         1       10  국내 업종/테마  KBSTAR  False  False  False  \n",
       "\n",
       "[856 rows x 17 columns]"
      ]
     },
     "execution_count": 33,
     "metadata": {},
     "output_type": "execute_result"
    }
   ],
   "source": [
    "# 저장한 파일을 읽어와서 제대로 저장되었는지 확인\n",
    "# 또, 종목코드는 그냥 읽어오면 숫자 맨 앞의 0이 생략될 수 있으니 object 타입으로 불러오기\n",
    "pd.read_csv(save_file_name)"
   ]
  },
  {
   "cell_type": "code",
   "execution_count": null,
   "metadata": {},
   "outputs": [],
   "source": []
  }
 ],
 "metadata": {
  "colab": {
   "collapsed_sections": [],
   "name": "8. naver-etf-eda.ipynb",
   "provenance": [],
   "toc_visible": true
  },
  "kernelspec": {
   "display_name": "Python 3 (ipykernel)",
   "language": "python",
   "name": "python3"
  },
  "language_info": {
   "codemirror_mode": {
    "name": "ipython",
    "version": 3
   },
   "file_extension": ".py",
   "mimetype": "text/x-python",
   "name": "python",
   "nbconvert_exporter": "python",
   "pygments_lexer": "ipython3",
   "version": "3.9.13"
  },
  "toc": {
   "base_numbering": 1,
   "nav_menu": {},
   "number_sections": true,
   "sideBar": true,
   "skip_h1_title": false,
   "title_cell": "Table of Contents",
   "title_sidebar": "Contents",
   "toc_cell": false,
   "toc_position": {
    "height": "calc(100% - 180px)",
    "left": "10px",
    "top": "150px",
    "width": "202px"
   },
   "toc_section_display": true,
   "toc_window_display": true
  },
  "varInspector": {
   "cols": {
    "lenName": 16,
    "lenType": 16,
    "lenVar": 40
   },
   "kernels_config": {
    "python": {
     "delete_cmd_postfix": "",
     "delete_cmd_prefix": "del ",
     "library": "var_list.py",
     "varRefreshCmd": "print(var_dic_list())"
    },
    "r": {
     "delete_cmd_postfix": ") ",
     "delete_cmd_prefix": "rm(",
     "library": "var_list.r",
     "varRefreshCmd": "cat(var_dic_list()) "
    }
   },
   "types_to_exclude": [
    "module",
    "function",
    "builtin_function_or_method",
    "instance",
    "_Feature"
   ],
   "window_display": false
  }
 },
 "nbformat": 4,
 "nbformat_minor": 4
}
